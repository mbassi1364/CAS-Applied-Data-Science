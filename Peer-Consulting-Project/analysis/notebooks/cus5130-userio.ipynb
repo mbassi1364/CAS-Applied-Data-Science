{
 "cells": [
  {
   "cell_type": "markdown",
   "metadata": {},
   "source": [
    "# CUS 5.13.0 User I/O Before and After Release Deployment\n",
    "\n",
    "## Context\n",
    "\n",
    "On May 26, 2020 version 5.13.0 of the CUS platform was released into production. This platform operates a \n",
    "datahub for real-time data of the public transport in Switzerland.\n",
    "It serves the customer information by various channels, e.g. the information screens\n",
    "at railway stations or bus stops. One of the core components of this platform is the CUS database, an \n",
    "Oracle 11.2 database appliance (ODA).\n",
    "\n",
    "Daily monitoring of the User I/O related database wait events seems to imply that the database user I/O has \n",
    "increased considerably since. \n",
    "\n",
    "The analysis' objective is to prove or disapprove this conjecture.\n",
    "\n",
    "\n",
    "## The Data\n",
    "\n",
    "The data was taken was taken from the dynamic performance view *DBA_HIST_SYSSTAT*. It is described in Oracles \n",
    "reference documentation, found online at https://docs.oracle.com/cd/E11882_01/server.112/e40402/stats.htm#REFRN103.\n",
    "This view contains hourly snapshots, i.e. it samples every hour the statistic values.\n",
    "\n",
    "For the analysis I chose the statistics \n",
    "* physical read total IO requests, and\n",
    "* physical read total bytes\n",
    "\n",
    "The statistics values are accumulated, and taken at the begin time of the snapshot. This usually is at the full hour.\n",
    "Due to high system load, taking the snapshot might be delayed, or is skipped altogether.\n",
    "\n",
    "\n",
    "### Query\n",
    "\n",
    "````sql\n",
    "alter session set nls_timestamp_format = 'YYYY-MM-DD HH24:MI:SS';\n",
    "\n",
    "select begin_interval_time, end_interval_time, snap_id, instance_number,\n",
    "  stat_name, value\n",
    "from dba_hist_sysstat@kihubprod_link.sbb.ch\n",
    "natural join dba_hist_snapshot@kihubprod_link.sbb.ch\n",
    "order by begin_interval_time, instance_number, stat_name;\n",
    "````\n",
    "\n",
    "### Datafile Structure\n",
    "\n",
    "* File name: dba-hist-sysstat.dsv\n",
    "* Format: Text file, CSV\n",
    "* Character set encoding scheme: UTF-8\n",
    "* Field separator: \";\" (semicolon)\n",
    "* First line: field names\n",
    "* 2n line and below: records\n",
    "* Field 1: BEGIN_INTERVAL_TIME; timestamp YYYY-MM-DD HH24:MI:SS\n",
    "* Field 2: END_INTERVAL_TIME; timestamp YYYY-MM-DD HH24:MI:SS\n",
    "* Field 3: SNAP_ID; snapshot ID, non-negative integer\n",
    "* Field 4: INSTANCE_NUMBER; ID of the database instance, non-negative integer\n",
    "* Field 5: STAT_NAME; statistics’ name\n",
    "* Field 6: VALUE; statistics’ value, integer"
   ]
  },
  {
   "cell_type": "code",
   "execution_count": null,
   "metadata": {},
   "outputs": [],
   "source": []
  },
  {
   "cell_type": "markdown",
   "metadata": {},
   "source": []
  }
 ],
 "metadata": {
  "kernelspec": {
   "display_name": "Python 3",
   "language": "python",
   "name": "python3"
  },
  "language_info": {
   "codemirror_mode": {
    "name": "ipython",
    "version": 3
   },
   "file_extension": ".py",
   "mimetype": "text/x-python",
   "name": "python",
   "nbconvert_exporter": "python",
   "pygments_lexer": "ipython3",
   "version": "3.7.3"
  }
 },
 "nbformat": 4,
 "nbformat_minor": 2
}
