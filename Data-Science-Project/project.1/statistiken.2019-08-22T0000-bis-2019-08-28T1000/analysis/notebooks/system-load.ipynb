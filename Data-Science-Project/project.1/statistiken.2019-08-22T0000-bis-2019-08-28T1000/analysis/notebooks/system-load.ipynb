{
 "cells": [
  {
   "cell_type": "markdown",
   "metadata": {},
   "source": [
    "# Data Science Project Part 1 &ndash; Assessing the System Load\n",
    "_CAS ADS 2019_<br/>\n",
    "_Author: Marco Bassi_, September 8, 2019"
   ]
  },
  {
   "cell_type": "markdown",
   "metadata": {},
   "source": [
    "## Introduction\n",
    "\n",
    "### Situation\n",
    "The SBB project KiHub operates the CUS platform, a datahub for the real-time data of the Swiss public transport. One of the core components it the CUS DB, an Oracle RDBMS. There is the **CUS DB Prod** for the productive environment, and the **CUS DB Inte** for the release test environment. Each database runs on its own, dedicated Oracle Data Appliance (ODA). Each database consists two database instances, running in cluster mode (Oracle Real Application Cluster).\n",
    "\n",
    "Upon an upgrade of its grid infrastructure, the performance of the CUS DB Inte deteriorated to a degree, where it wouldn't meet anymore its purpose for the release test. The performance issues manifested themselves mainly in a massive degradation of the cluster-related wait times. \n",
    "\n",
    "In the beginning of August, a number of patches was applied to improve the performance. The goal of this analysis is to evaluate the performance of the CUS DB Inte, by compairing it with the CUS DB Prod. For this purpose, some selected system statistics are gathered from the _Oracle dynamic performance view_ DBA_HIST_SYSSTAT. This view contains hourly snapshots of historicised system statistics.\n",
    "The statistics are running sums, with their values beeing reset upon system restart.\n",
    "\n",
    "### Data Analysis\n",
    "The analysis is made of two parts:\n",
    "1. Part 1 analyses the system load of the two databases. Similar system load is a major precondition for drawing conclusions of the performance of the CUS DB Inte, when compaired to CUS DB Prod.\n",
    "2. Part 2 specifically analyses statistics related to the Global Cache (GC). GC is involved when one cluster database instance requires data currently held in the Local Cache (LC) of the other cluster database instance. The handling of this situation is ruled by a sophisticated protocol, which however is out of scope of this analysis."
   ]
  },
  {
   "cell_type": "markdown",
   "metadata": {},
   "source": [
    "### Read the data"
   ]
  },
  {
   "cell_type": "code",
   "execution_count": 3,
   "metadata": {},
   "outputs": [
    {
     "name": "stdout",
     "output_type": "stream",
     "text": [
      "'data.frame':\t232897 obs. of  6 variables:\n",
      " $ BEGIN_INTERVAL_TIME: chr  \"2019-08-22 00:00:05\" \"2019-08-22 00:00:05\" \"2019-08-22 00:00:05\" \"2019-08-22 00:00:05\" ...\n",
      " $ END_INTERVAL_TIME  : chr  \"2019-08-22 01:00:22\" \"2019-08-22 01:00:22\" \"2019-08-22 01:00:22\" \"2019-08-22 01:00:22\" ...\n",
      " $ SNAP_ID            : int  20070 20070 20070 20070 20070 20070 20070 20070 20070 20070 ...\n",
      " $ INSTANCE_NUMBER    : int  2 2 2 2 2 2 2 2 2 2 ...\n",
      " $ STAT_NAME          : chr  \"active txn count during cleanout\" \"ADG parselock X get attempts\" \"ADG parselock X get successes\" \"application wait time\" ...\n",
      " $ VALUE              : num  94067174 0 0 24287453 0 ...\n"
     ]
    }
   ],
   "source": [
    "setwd('/data/CAS-ADS/Git.repos/CAS-Applied-Data-Science/Data-Science-Project/project.1/statistiken.2019-08-22T0000-bis-2019-08-28T1000/data')\n",
    "daten.inte <- read.csv2(file=\"dba_hist_sysstat.inte.dsv\", sep=\";\", dec=\".\", stringsAsFactors=F)\n",
    "str(daten.inte)"
   ]
  },
  {
   "cell_type": "code",
   "execution_count": 4,
   "metadata": {},
   "outputs": [
    {
     "name": "stdout",
     "output_type": "stream",
     "text": [
      "'data.frame':\t239008 obs. of  6 variables:\n",
      " $ BEGIN_INTERVAL_TIME: chr  \"2019-08-22 00:00:14\" \"2019-08-22 00:00:14\" \"2019-08-22 00:00:14\" \"2019-08-22 00:00:14\" ...\n",
      " $ END_INTERVAL_TIME  : chr  \"2019-08-22 01:00:16\" \"2019-08-22 01:00:16\" \"2019-08-22 01:00:16\" \"2019-08-22 01:00:16\" ...\n",
      " $ SNAP_ID            : int  35567 35567 35567 35567 35567 35567 35567 35567 35567 35567 ...\n",
      " $ INSTANCE_NUMBER    : int  1 1 1 1 1 1 1 1 1 1 ...\n",
      " $ STAT_NAME          : chr  \"active txn count during cleanout\" \"ADG parselock X get attempts\" \"ADG parselock X get successes\" \"application wait time\" ...\n",
      " $ VALUE              : num  5.11e+08 0.00 0.00 8.39e+07 1.19e+02 ...\n"
     ]
    }
   ],
   "source": [
    "daten.prod <- read.csv2(file=\"dba_hist_sysstat.prod.dsv\", sep=\";\", dec=\".\", stringsAsFactors=F)\n",
    "str(daten.prod)"
   ]
  },
  {
   "cell_type": "code",
   "execution_count": 5,
   "metadata": {},
   "outputs": [
    {
     "data": {
      "text/html": [
       "<table>\n",
       "<thead><tr><th scope=col>BEGIN_INTERVAL_TIME</th><th scope=col>END_INTERVAL_TIME</th><th scope=col>SNAP_ID</th><th scope=col>INSTANCE_NUMBER</th><th scope=col>STAT_NAME</th><th scope=col>VALUE</th></tr></thead>\n",
       "<tbody>\n",
       "\t<tr><td>2019-08-22 00:00:14             </td><td>2019-08-22 01:00:16             </td><td>35567                           </td><td>1                               </td><td>active txn count during cleanout</td><td> 511403667                      </td></tr>\n",
       "\t<tr><td>2019-08-22 00:00:14             </td><td>2019-08-22 01:00:16             </td><td>35567                           </td><td>1                               </td><td>ADG parselock X get attempts    </td><td>         0                      </td></tr>\n",
       "\t<tr><td>2019-08-22 00:00:14             </td><td>2019-08-22 01:00:16             </td><td>35567                           </td><td>1                               </td><td>ADG parselock X get successes   </td><td>         0                      </td></tr>\n",
       "\t<tr><td>2019-08-22 00:00:14             </td><td>2019-08-22 01:00:16             </td><td>35567                           </td><td>1                               </td><td>application wait time           </td><td>  83919815                      </td></tr>\n",
       "\t<tr><td>2019-08-22 00:00:14             </td><td>2019-08-22 01:00:16             </td><td>35567                           </td><td>1                               </td><td>auto extends on undo tablespace </td><td>       119                      </td></tr>\n",
       "\t<tr><td>2019-08-22 00:00:14             </td><td>2019-08-22 01:00:16             </td><td>35567                           </td><td>1                               </td><td>background checkpoints completed</td><td>      6195                      </td></tr>\n",
       "\t<tr><td>2019-08-22 00:00:14             </td><td>2019-08-22 01:00:16             </td><td>35567                           </td><td>1                               </td><td>background checkpoints started  </td><td>      6195                      </td></tr>\n",
       "\t<tr><td>2019-08-22 00:00:14             </td><td>2019-08-22 01:00:16             </td><td>35567                           </td><td>1                               </td><td>background timeouts             </td><td> 156219454                      </td></tr>\n",
       "\t<tr><td>2019-08-22 00:00:14             </td><td>2019-08-22 01:00:16             </td><td>35567                           </td><td>1                               </td><td>Batched IO block miss count     </td><td>8136763326                      </td></tr>\n",
       "\t<tr><td>2019-08-22 00:00:14             </td><td>2019-08-22 01:00:16             </td><td>35567                           </td><td>1                               </td><td>Batched IO (bound) vector count </td><td>  67038018                      </td></tr>\n",
       "</tbody>\n",
       "</table>\n"
      ],
      "text/latex": [
       "\\begin{tabular}{r|llllll}\n",
       " BEGIN\\_INTERVAL\\_TIME & END\\_INTERVAL\\_TIME & SNAP\\_ID & INSTANCE\\_NUMBER & STAT\\_NAME & VALUE\\\\\n",
       "\\hline\n",
       "\t 2019-08-22 00:00:14              & 2019-08-22 01:00:16              & 35567                            & 1                                & active txn count during cleanout &  511403667                      \\\\\n",
       "\t 2019-08-22 00:00:14              & 2019-08-22 01:00:16              & 35567                            & 1                                & ADG parselock X get attempts     &          0                      \\\\\n",
       "\t 2019-08-22 00:00:14              & 2019-08-22 01:00:16              & 35567                            & 1                                & ADG parselock X get successes    &          0                      \\\\\n",
       "\t 2019-08-22 00:00:14              & 2019-08-22 01:00:16              & 35567                            & 1                                & application wait time            &   83919815                      \\\\\n",
       "\t 2019-08-22 00:00:14              & 2019-08-22 01:00:16              & 35567                            & 1                                & auto extends on undo tablespace  &        119                      \\\\\n",
       "\t 2019-08-22 00:00:14              & 2019-08-22 01:00:16              & 35567                            & 1                                & background checkpoints completed &       6195                      \\\\\n",
       "\t 2019-08-22 00:00:14              & 2019-08-22 01:00:16              & 35567                            & 1                                & background checkpoints started   &       6195                      \\\\\n",
       "\t 2019-08-22 00:00:14              & 2019-08-22 01:00:16              & 35567                            & 1                                & background timeouts              &  156219454                      \\\\\n",
       "\t 2019-08-22 00:00:14              & 2019-08-22 01:00:16              & 35567                            & 1                                & Batched IO block miss count      & 8136763326                      \\\\\n",
       "\t 2019-08-22 00:00:14              & 2019-08-22 01:00:16              & 35567                            & 1                                & Batched IO (bound) vector count  &   67038018                      \\\\\n",
       "\\end{tabular}\n"
      ],
      "text/markdown": [
       "\n",
       "| BEGIN_INTERVAL_TIME | END_INTERVAL_TIME | SNAP_ID | INSTANCE_NUMBER | STAT_NAME | VALUE |\n",
       "|---|---|---|---|---|---|\n",
       "| 2019-08-22 00:00:14              | 2019-08-22 01:00:16              | 35567                            | 1                                | active txn count during cleanout |  511403667                       |\n",
       "| 2019-08-22 00:00:14              | 2019-08-22 01:00:16              | 35567                            | 1                                | ADG parselock X get attempts     |          0                       |\n",
       "| 2019-08-22 00:00:14              | 2019-08-22 01:00:16              | 35567                            | 1                                | ADG parselock X get successes    |          0                       |\n",
       "| 2019-08-22 00:00:14              | 2019-08-22 01:00:16              | 35567                            | 1                                | application wait time            |   83919815                       |\n",
       "| 2019-08-22 00:00:14              | 2019-08-22 01:00:16              | 35567                            | 1                                | auto extends on undo tablespace  |        119                       |\n",
       "| 2019-08-22 00:00:14              | 2019-08-22 01:00:16              | 35567                            | 1                                | background checkpoints completed |       6195                       |\n",
       "| 2019-08-22 00:00:14              | 2019-08-22 01:00:16              | 35567                            | 1                                | background checkpoints started   |       6195                       |\n",
       "| 2019-08-22 00:00:14              | 2019-08-22 01:00:16              | 35567                            | 1                                | background timeouts              |  156219454                       |\n",
       "| 2019-08-22 00:00:14              | 2019-08-22 01:00:16              | 35567                            | 1                                | Batched IO block miss count      | 8136763326                       |\n",
       "| 2019-08-22 00:00:14              | 2019-08-22 01:00:16              | 35567                            | 1                                | Batched IO (bound) vector count  |   67038018                       |\n",
       "\n"
      ],
      "text/plain": [
       "   BEGIN_INTERVAL_TIME END_INTERVAL_TIME   SNAP_ID INSTANCE_NUMBER\n",
       "1  2019-08-22 00:00:14 2019-08-22 01:00:16 35567   1              \n",
       "2  2019-08-22 00:00:14 2019-08-22 01:00:16 35567   1              \n",
       "3  2019-08-22 00:00:14 2019-08-22 01:00:16 35567   1              \n",
       "4  2019-08-22 00:00:14 2019-08-22 01:00:16 35567   1              \n",
       "5  2019-08-22 00:00:14 2019-08-22 01:00:16 35567   1              \n",
       "6  2019-08-22 00:00:14 2019-08-22 01:00:16 35567   1              \n",
       "7  2019-08-22 00:00:14 2019-08-22 01:00:16 35567   1              \n",
       "8  2019-08-22 00:00:14 2019-08-22 01:00:16 35567   1              \n",
       "9  2019-08-22 00:00:14 2019-08-22 01:00:16 35567   1              \n",
       "10 2019-08-22 00:00:14 2019-08-22 01:00:16 35567   1              \n",
       "   STAT_NAME                        VALUE     \n",
       "1  active txn count during cleanout  511403667\n",
       "2  ADG parselock X get attempts              0\n",
       "3  ADG parselock X get successes             0\n",
       "4  application wait time              83919815\n",
       "5  auto extends on undo tablespace         119\n",
       "6  background checkpoints completed       6195\n",
       "7  background checkpoints started         6195\n",
       "8  background timeouts               156219454\n",
       "9  Batched IO block miss count      8136763326\n",
       "10 Batched IO (bound) vector count    67038018"
      ]
     },
     "metadata": {},
     "output_type": "display_data"
    }
   ],
   "source": [
    "## Use data.table library\n",
    "library(data.table)\n",
    "dt.inte <- data.table(daten.inte)\n",
    "dt.prod <- data.table(daten.prod)\n",
    "head(dt.prod, 10)"
   ]
  },
  {
   "cell_type": "markdown",
   "metadata": {},
   "source": [
    "### As the statistics are running sums, they have to be \"nulled\" with respect to the oldest snapshot common to the two instances of a cluster."
   ]
  },
  {
   "cell_type": "code",
   "execution_count": 6,
   "metadata": {},
   "outputs": [
    {
     "data": {
      "text/html": [
       "0"
      ],
      "text/latex": [
       "0"
      ],
      "text/markdown": [
       "0"
      ],
      "text/plain": [
       "[1] 0"
      ]
     },
     "metadata": {},
     "output_type": "display_data"
    },
    {
     "name": "stdout",
     "output_type": "stream",
     "text": [
      "Classes 'data.table' and 'data.frame':\t232897 obs. of  8 variables:\n",
      " $ INSTANCE_NUMBER    : int  1 1 1 1 1 1 1 1 1 1 ...\n",
      " $ STAT_NAME          : chr  \"ADG parselock X get attempts\" \"ADG parselock X get attempts\" \"ADG parselock X get attempts\" \"ADG parselock X get attempts\" ...\n",
      " $ BEGIN_INTERVAL_TIME: chr  \"2019-08-22 00:00:05\" \"2019-08-22 01:00:22\" \"2019-08-22 02:00:46\" \"2019-08-22 03:00:40\" ...\n",
      " $ END_INTERVAL_TIME  : chr  \"2019-08-22 01:00:22\" \"2019-08-22 02:00:46\" \"2019-08-22 03:00:40\" \"2019-08-22 04:00:21\" ...\n",
      " $ SNAP_ID            : int  20070 20071 20072 20073 20074 20075 20076 20077 20078 20079 ...\n",
      " $ VALUE              : num  0 0 0 0 0 0 0 0 0 0 ...\n",
      " $ VALUE0             : num  0 0 0 0 0 0 0 0 0 0 ...\n",
      " $ offsetValue        : num  0 0 0 0 0 0 0 0 0 0 ...\n",
      " - attr(*, \".internal.selfref\")=<externalptr> \n",
      " - attr(*, \"sorted\")= chr  \"INSTANCE_NUMBER\" \"STAT_NAME\"\n"
     ]
    }
   ],
   "source": [
    "# find the minimum snaphost ID for the CUS DB Inte data\n",
    "minsnap.inte <- dt.inte[, min(SNAP_ID), by=INSTANCE_NUMBER]\n",
    "\n",
    "# select the minimum snapshot data\n",
    "mindt.inte <- merge(dt.inte, minsnap.inte, by.x=c(\"INSTANCE_NUMBER\", \"SNAP_ID\"), by.y=c(\"INSTANCE_NUMBER\", \"V1\"), all=F)\n",
    "dtNulled.inte <- merge(dt.inte, mindt.inte[, list(INSTANCE_NUMBER, STAT_NAME, VALUE)] , by=c(\"INSTANCE_NUMBER\", \"STAT_NAME\"), suffixes=c(\"\", 0),all.x = T)\n",
    "\n",
    "# Check if there are NA statistic values\n",
    "sum(is.na(dtNulled.inte[, c('VALUE', 'VALUE0')]))  # must be 0\n",
    "\n",
    "# Compute the nulled value, i.e. the statics value of all snapshots and statistics wrt. the minimum snapshot data\n",
    "dtNulled.inte[, offsetValue := VALUE - VALUE0]\n",
    "str(dtNulled.inte)"
   ]
  },
  {
   "cell_type": "code",
   "execution_count": 7,
   "metadata": {},
   "outputs": [
    {
     "data": {
      "text/html": [
       "0"
      ],
      "text/latex": [
       "0"
      ],
      "text/markdown": [
       "0"
      ],
      "text/plain": [
       "[1] 0"
      ]
     },
     "metadata": {},
     "output_type": "display_data"
    },
    {
     "name": "stdout",
     "output_type": "stream",
     "text": [
      "Classes 'data.table' and 'data.frame':\t239008 obs. of  8 variables:\n",
      " $ INSTANCE_NUMBER    : int  1 1 1 1 1 1 1 1 1 1 ...\n",
      " $ STAT_NAME          : chr  \"ADG parselock X get attempts\" \"ADG parselock X get attempts\" \"ADG parselock X get attempts\" \"ADG parselock X get attempts\" ...\n",
      " $ BEGIN_INTERVAL_TIME: chr  \"2019-08-22 00:00:14\" \"2019-08-22 01:00:16\" \"2019-08-22 02:00:01\" \"2019-08-22 03:00:07\" ...\n",
      " $ END_INTERVAL_TIME  : chr  \"2019-08-22 01:00:16\" \"2019-08-22 02:00:01\" \"2019-08-22 03:00:07\" \"2019-08-22 04:00:20\" ...\n",
      " $ SNAP_ID            : int  35567 35568 35569 35570 35571 35572 35573 35574 35575 35576 ...\n",
      " $ VALUE              : num  0 0 0 0 0 0 0 0 0 0 ...\n",
      " $ VALUE0             : num  0 0 0 0 0 0 0 0 0 0 ...\n",
      " $ offsetValue        : num  0 0 0 0 0 0 0 0 0 0 ...\n",
      " - attr(*, \".internal.selfref\")=<externalptr> \n",
      " - attr(*, \"sorted\")= chr  \"INSTANCE_NUMBER\" \"STAT_NAME\"\n"
     ]
    }
   ],
   "source": [
    "# same procedure for CUS DB Prod data\n",
    "minsnap.prod <- dt.prod[, min(SNAP_ID), by=INSTANCE_NUMBER]\n",
    "mindt.prod <- merge(dt.prod, minsnap.prod, by.x=c(\"INSTANCE_NUMBER\", \"SNAP_ID\"), by.y=c(\"INSTANCE_NUMBER\", \"V1\"), all=F)\n",
    "dtNulled.prod <- merge(dt.prod, mindt.prod[, list(INSTANCE_NUMBER, STAT_NAME, VALUE)] , by=c(\"INSTANCE_NUMBER\", \"STAT_NAME\"), suffixes=c(\"\", 0),all.x = T)\n",
    "sum(is.na(dtNulled.prod[, c('VALUE', 'VALUE0')]))  # must be 0\n",
    "dtNulled.prod[, offsetValue := VALUE - VALUE0]\n",
    "str(dtNulled.prod)"
   ]
  },
  {
   "cell_type": "code",
   "execution_count": 8,
   "metadata": {},
   "outputs": [
    {
     "name": "stdout",
     "output_type": "stream",
     "text": [
      "Classes 'data.table' and 'data.frame':\t232897 obs. of  11 variables:\n",
      " $ INSTANCE_NUMBER    : int  1 1 1 1 1 1 1 1 1 1 ...\n",
      " $ STAT_NAME          : chr  \"ADG parselock X get attempts\" \"ADG parselock X get attempts\" \"ADG parselock X get attempts\" \"ADG parselock X get attempts\" ...\n",
      " $ BEGIN_INTERVAL_TIME: chr  \"2019-08-22 00:00:05\" \"2019-08-22 01:00:22\" \"2019-08-22 02:00:46\" \"2019-08-22 03:00:40\" ...\n",
      " $ END_INTERVAL_TIME  : chr  \"2019-08-22 01:00:22\" \"2019-08-22 02:00:46\" \"2019-08-22 03:00:40\" \"2019-08-22 04:00:21\" ...\n",
      " $ SNAP_ID            : int  20070 20071 20072 20073 20074 20075 20076 20077 20078 20079 ...\n",
      " $ VALUE              : num  0 0 0 0 0 0 0 0 0 0 ...\n",
      " $ VALUE0             : num  0 0 0 0 0 0 0 0 0 0 ...\n",
      " $ offsetValue        : num  0 0 0 0 0 0 0 0 0 0 ...\n",
      " $ beginInterval      : POSIXct, format: \"2019-08-22 00:00:05\" \"2019-08-22 01:00:22\" ...\n",
      " $ endInterval        : POSIXct, format: \"2019-08-22 01:00:22\" \"2019-08-22 02:00:46\" ...\n",
      " $ snapHour           : POSIXct, format: \"2019-08-22 00:00:00\" \"2019-08-22 01:00:00\" ...\n",
      " - attr(*, \".internal.selfref\")=<externalptr> \n",
      " - attr(*, \"sorted\")= chr  \"INSTANCE_NUMBER\" \"STAT_NAME\"\n",
      "Classes 'data.table' and 'data.frame':\t239008 obs. of  11 variables:\n",
      " $ INSTANCE_NUMBER    : int  1 1 1 1 1 1 1 1 1 1 ...\n",
      " $ STAT_NAME          : chr  \"ADG parselock X get attempts\" \"ADG parselock X get attempts\" \"ADG parselock X get attempts\" \"ADG parselock X get attempts\" ...\n",
      " $ BEGIN_INTERVAL_TIME: chr  \"2019-08-22 00:00:14\" \"2019-08-22 01:00:16\" \"2019-08-22 02:00:01\" \"2019-08-22 03:00:07\" ...\n",
      " $ END_INTERVAL_TIME  : chr  \"2019-08-22 01:00:16\" \"2019-08-22 02:00:01\" \"2019-08-22 03:00:07\" \"2019-08-22 04:00:20\" ...\n",
      " $ SNAP_ID            : int  35567 35568 35569 35570 35571 35572 35573 35574 35575 35576 ...\n",
      " $ VALUE              : num  0 0 0 0 0 0 0 0 0 0 ...\n",
      " $ VALUE0             : num  0 0 0 0 0 0 0 0 0 0 ...\n",
      " $ offsetValue        : num  0 0 0 0 0 0 0 0 0 0 ...\n",
      " $ beginInterval      : POSIXct, format: \"2019-08-22 00:00:14\" \"2019-08-22 01:00:16\" ...\n",
      " $ endInterval        : POSIXct, format: \"2019-08-22 01:00:16\" \"2019-08-22 02:00:01\" ...\n",
      " $ snapHour           : POSIXct, format: \"2019-08-22 00:00:00\" \"2019-08-22 01:00:00\" ...\n",
      " - attr(*, \".internal.selfref\")=<externalptr> \n",
      " - attr(*, \"sorted\")= chr  \"INSTANCE_NUMBER\" \"STAT_NAME\"\n"
     ]
    }
   ],
   "source": [
    "# Compute datetime values from character strings\n",
    "dtNulled.inte[, beginInterval := as.POSIXct(BEGIN_INTERVAL_TIME, format=\"%Y-%m-%d %H:%M:%S\")]\n",
    "dtNulled.inte[, endInterval := as.POSIXct(END_INTERVAL_TIME, format=\"%Y-%m-%d %H:%M:%S\")]\n",
    "dtNulled.inte[, snapHour := as.POSIXct(round(beginInterval, units=\"hours\"))]\n",
    "str(dtNulled.inte)\n",
    "\n",
    "dtNulled.prod[, beginInterval := as.POSIXct(BEGIN_INTERVAL_TIME, format=\"%Y-%m-%d %H:%M:%S\")]\n",
    "dtNulled.prod[, endInterval := as.POSIXct(END_INTERVAL_TIME, format=\"%Y-%m-%d %H:%M:%S\")]\n",
    "dtNulled.prod[, snapHour := as.POSIXct(round(beginInterval, units=\"hours\"))]\n",
    "str(dtNulled.prod)"
   ]
  },
  {
   "cell_type": "markdown",
   "metadata": {},
   "source": [
    "### There are some tests to show the snapshot intervals are identical. These tests are skipped here."
   ]
  },
  {
   "cell_type": "code",
   "execution_count": 9,
   "metadata": {},
   "outputs": [
    {
     "name": "stdout",
     "output_type": "stream",
     "text": [
      "Classes 'data.table' and 'data.frame':\t114751 obs. of  4 variables:\n",
      " $ snapHour  : POSIXct, format: \"2019-08-22 00:00:00\" \"2019-08-22 00:00:00\" ...\n",
      " $ STAT_NAME : chr  \"ADG parselock X get attempts\" \"ADG parselock X get successes\" \"Batched IO (bound) vector count\" \"Batched IO (full) vector count\" ...\n",
      " $ sumValue_I: num  0 0 0 0 0 0 0 0 0 0 ...\n",
      " $ sumValue_P: num  0 0 0 0 0 0 0 0 0 0 ...\n",
      " - attr(*, \".internal.selfref\")=<externalptr> \n",
      " - attr(*, \"sorted\")= chr  \"snapHour\" \"STAT_NAME\"\n"
     ]
    }
   ],
   "source": [
    "# Sum up the statistics values of the CUS DB Inte database instances\n",
    "dtNulled.inte1 <- dtNulled.inte[, list(\"minInterval\" = min(beginInterval), \"maxInterval\" = max(endInterval), \"sumValue\" = sum(offsetValue)),\n",
    "   by = list(SNAP_ID, STAT_NAME, snapHour)]\n",
    "   \n",
    "# Same for the CUS DB Prod\n",
    "dtNulled.prod1 <- dtNulled.prod[, list(\"minInterval\" = min(beginInterval), \"maxInterval\" = max(endInterval), \"sumValue\" = sum(offsetValue)),\n",
    "   by = list(SNAP_ID, STAT_NAME, snapHour)]\n",
    "\n",
    "# Merge the data tables of CUS DB Prod and CUS DB Inte.The snapshots at August 29, 1:00 CEST and later are dropped because CUS DB Prod was restarted.\n",
    "dtNulled <- merge(\n",
    "   dtNulled.inte1[snapHour < as.POSIXct(strptime('2019-08-29 01:00:00', '%Y-%m-%d %H:%M:%S')), list(STAT_NAME, snapHour, sumValue)],\n",
    "   dtNulled.prod1[snapHour < as.POSIXct(strptime('2019-08-29 01:00:00', '%Y-%m-%d %H:%M:%S')), list(STAT_NAME, snapHour, sumValue)],\n",
    "   by=c(\"snapHour\", \"STAT_NAME\"), all=T, suffixes=c(\"_I\", \"_P\"), incomparables=NA)\n",
    "\n",
    "setkeyv(dtNulled, c(\"snapHour\", \"STAT_NAME\"))\n",
    "\n",
    "# sumValue_I holds the statistics values of CUS DB Inte, and sumValue_P for CUS DB Prod respectively\n",
    "str(dtNulled)"
   ]
  },
  {
   "cell_type": "markdown",
   "metadata": {},
   "source": [
    "### Choose the statistics to compaire the two databases loads:\n",
    "* application wait time (in centiseconds)\n",
    "* cluster wait time (in centiseconds)\n",
    "* concurrency wait time (in centiseconds)\n",
    "* user I/O wait time (in centiseconds)\n",
    "* db block changes (number)\n",
    "* enqueue requests (number)\n",
    "* execute count (number)\n",
    "* global enqueue gets async (number)\n",
    "* global enqueue gets sync (number)\n",
    "* parse count (total, number)\n",
    "* user calls (number)"
   ]
  },
  {
   "cell_type": "code",
   "execution_count": 10,
   "metadata": {},
   "outputs": [
    {
     "name": "stdout",
     "output_type": "stream",
     "text": [
      "Classes 'data.table' and 'data.frame':\t1859 obs. of  4 variables:\n",
      " $ snapHour  : POSIXct, format: \"2019-08-22 00:00:00\" \"2019-08-22 00:00:00\" ...\n",
      " $ STAT_NAME : chr  \"application wait time\" \"cluster wait time\" \"concurrency wait time\" \"db block changes\" ...\n",
      " $ sumValue_I: num  0 0 0 0 0 0 0 0 0 0 ...\n",
      " $ sumValue_P: num  0 0 0 0 0 0 0 0 0 0 ...\n",
      " - attr(*, \".internal.selfref\")=<externalptr> \n",
      " - attr(*, \"sorted\")= chr  \"snapHour\" \"STAT_NAME\"\n"
     ]
    }
   ],
   "source": [
    "dtNulled.selectForLoad <- dtNulled[ STAT_NAME %in% list(\n",
    "'db block changes', 'enqueue requests', 'execute count', 'global enqueue gets async', 'global enqueue gets sync', \n",
    "'parse count (total)', 'user calls', 'application wait time', 'cluster wait time', 'user I/O wait time', 'concurrency wait time'), ]\n",
    "str(dtNulled.selectForLoad)"
   ]
  },
  {
   "cell_type": "code",
   "execution_count": 11,
   "metadata": {},
   "outputs": [
    {
     "name": "stderr",
     "output_type": "stream",
     "text": [
      "\n",
      "Attaching package: 'reshape2'\n",
      "\n",
      "The following objects are masked from 'package:data.table':\n",
      "\n",
      "    dcast, melt\n",
      "\n"
     ]
    },
    {
     "name": "stdout",
     "output_type": "stream",
     "text": [
      "Classes 'data.table' and 'data.frame':\t3718 obs. of  4 variables:\n",
      " $ snapHour : POSIXct, format: \"2019-08-22 00:00:00\" \"2019-08-22 00:00:00\" ...\n",
      " $ STAT_NAME: chr  \"application wait time\" \"cluster wait time\" \"concurrency wait time\" \"db block changes\" ...\n",
      " $ variable : Factor w/ 2 levels \"sumValue_I\",\"sumValue_P\": 1 1 1 1 1 1 1 1 1 1 ...\n",
      " $ value    : num  0 0 0 0 0 0 0 0 0 0 ...\n",
      " - attr(*, \".internal.selfref\")=<externalptr> \n"
     ]
    }
   ],
   "source": [
    "# Transform the data.table into long format for furhter analysis\n",
    "library(reshape2)\n",
    "dtNulled.selectForLoad.melt <- melt(dtNulled.selectForLoad, id=c(\"snapHour\", \"STAT_NAME\"), measured=c(\"sumValue_I\",\"sumValue_P\"))\n",
    "str(dtNulled.selectForLoad.melt)"
   ]
  },
  {
   "cell_type": "code",
   "execution_count": 12,
   "metadata": {},
   "outputs": [
    {
     "data": {
      "text/html": [
       "<table>\n",
       "<thead><tr><th scope=col>STAT_NAME</th><th scope=col>variable</th><th scope=col>minimum</th><th scope=col>q1</th><th scope=col>median</th><th scope=col>mean</th><th scope=col>q3</th><th scope=col>maximum</th></tr></thead>\n",
       "<tbody>\n",
       "\t<tr><td>application wait time    </td><td>sumValue_I               </td><td>0                        </td><td>   6469607               </td><td>  13006096               </td><td>  11218856               </td><td>  15822376               </td><td>   24605502              </td></tr>\n",
       "\t<tr><td>application wait time    </td><td>sumValue_P               </td><td>0                        </td><td>   1765437               </td><td>   3286549               </td><td>   3836112               </td><td>   5671957               </td><td>   11161610              </td></tr>\n",
       "\t<tr><td>cluster wait time        </td><td>sumValue_I               </td><td>0                        </td><td>  39922870               </td><td>  70648925               </td><td>  73811537               </td><td> 106550893               </td><td>  156068270              </td></tr>\n",
       "\t<tr><td>cluster wait time        </td><td>sumValue_P               </td><td>0                        </td><td>  13095362               </td><td>  23202828               </td><td>  22954916               </td><td>  32902095               </td><td>   45809061              </td></tr>\n",
       "\t<tr><td>concurrency wait time    </td><td>sumValue_I               </td><td>0                        </td><td>  20483283               </td><td>  45683929               </td><td>  37344386               </td><td>  56770050               </td><td>   65431988              </td></tr>\n",
       "\t<tr><td>concurrency wait time    </td><td>sumValue_P               </td><td>0                        </td><td>   8524217               </td><td>  13795452               </td><td>  13850108               </td><td>  19123212               </td><td>   27798021              </td></tr>\n",
       "\t<tr><td>db block changes         </td><td>sumValue_I               </td><td>0                        </td><td>2091862563               </td><td>3998385106               </td><td>4058133163               </td><td>6014315921               </td><td> 8178806280              </td></tr>\n",
       "\t<tr><td>db block changes         </td><td>sumValue_P               </td><td>0                        </td><td>2231984641               </td><td>3948820716               </td><td>3960612971               </td><td>5725933415               </td><td> 7850867824              </td></tr>\n",
       "\t<tr><td>enqueue requests         </td><td>sumValue_I               </td><td>0                        </td><td> 168693903               </td><td> 315319718               </td><td> 324797038               </td><td> 480036301               </td><td>  667086207              </td></tr>\n",
       "\t<tr><td>enqueue requests         </td><td>sumValue_P               </td><td>0                        </td><td> 361319940               </td><td> 642784679               </td><td> 651501529               </td><td> 947107722               </td><td> 1314715516              </td></tr>\n",
       "\t<tr><td>execute count            </td><td>sumValue_I               </td><td>0                        </td><td> 507427417               </td><td> 925947886               </td><td> 942725014               </td><td>1387090951               </td><td> 1874434810              </td></tr>\n",
       "\t<tr><td>execute count            </td><td>sumValue_P               </td><td>0                        </td><td> 697135715               </td><td>1265369091               </td><td>1266382865               </td><td>1848565824               </td><td> 2512843957              </td></tr>\n",
       "\t<tr><td>global enqueue gets async</td><td>sumValue_I               </td><td>0                        </td><td>   1020293               </td><td>   2307265               </td><td>   2334714               </td><td>   3608867               </td><td>    4847124              </td></tr>\n",
       "\t<tr><td>global enqueue gets async</td><td>sumValue_P               </td><td>0                        </td><td>   2570432               </td><td>   5039506               </td><td>   5033191               </td><td>   7542935               </td><td>    9942179              </td></tr>\n",
       "\t<tr><td>global enqueue gets sync </td><td>sumValue_I               </td><td>0                        </td><td>2218573650               </td><td>4039716641               </td><td>4108848046               </td><td>6043333453               </td><td> 8182200917              </td></tr>\n",
       "\t<tr><td>global enqueue gets sync </td><td>sumValue_P               </td><td>0                        </td><td>3050827299               </td><td>5506837636               </td><td>5523297112               </td><td>8074432602               </td><td>10978370006              </td></tr>\n",
       "\t<tr><td>parse count (total)      </td><td>sumValue_I               </td><td>0                        </td><td> 493992266               </td><td> 900360068               </td><td> 917114770               </td><td>1348675712               </td><td> 1824743764              </td></tr>\n",
       "\t<tr><td>parse count (total)      </td><td>sumValue_P               </td><td>0                        </td><td> 680125822               </td><td>1235428491               </td><td>1235803436               </td><td>1804282880               </td><td> 2452601627              </td></tr>\n",
       "\t<tr><td>user I/O wait time       </td><td>sumValue_I               </td><td>0                        </td><td>  28276153               </td><td>  57768679               </td><td>  56110475               </td><td>  85665735               </td><td>  104218173              </td></tr>\n",
       "\t<tr><td>user I/O wait time       </td><td>sumValue_P               </td><td>0                        </td><td>  63195333               </td><td> 118447498               </td><td> 110180065               </td><td> 153219671               </td><td>  221435845              </td></tr>\n",
       "\t<tr><td>user calls               </td><td>sumValue_I               </td><td>0                        </td><td>1110556855               </td><td>2019867393               </td><td>2054180000               </td><td>3021275686               </td><td> 4085999060              </td></tr>\n",
       "\t<tr><td>user calls               </td><td>sumValue_P               </td><td>0                        </td><td>1540372092               </td><td>2780263078               </td><td>2788656021               </td><td>4078517023               </td><td> 5540569789              </td></tr>\n",
       "</tbody>\n",
       "</table>\n"
      ],
      "text/latex": [
       "\\begin{tabular}{r|llllllll}\n",
       " STAT\\_NAME & variable & minimum & q1 & median & mean & q3 & maximum\\\\\n",
       "\\hline\n",
       "\t application wait time     & sumValue\\_I              & 0                         &    6469607                &   13006096                &   11218856                &   15822376                &    24605502              \\\\\n",
       "\t application wait time     & sumValue\\_P              & 0                         &    1765437                &    3286549                &    3836112                &    5671957                &    11161610              \\\\\n",
       "\t cluster wait time         & sumValue\\_I              & 0                         &   39922870                &   70648925                &   73811537                &  106550893                &   156068270              \\\\\n",
       "\t cluster wait time         & sumValue\\_P              & 0                         &   13095362                &   23202828                &   22954916                &   32902095                &    45809061              \\\\\n",
       "\t concurrency wait time     & sumValue\\_I              & 0                         &   20483283                &   45683929                &   37344386                &   56770050                &    65431988              \\\\\n",
       "\t concurrency wait time     & sumValue\\_P              & 0                         &    8524217                &   13795452                &   13850108                &   19123212                &    27798021              \\\\\n",
       "\t db block changes          & sumValue\\_I              & 0                         & 2091862563                & 3998385106                & 4058133163                & 6014315921                &  8178806280              \\\\\n",
       "\t db block changes          & sumValue\\_P              & 0                         & 2231984641                & 3948820716                & 3960612971                & 5725933415                &  7850867824              \\\\\n",
       "\t enqueue requests          & sumValue\\_I              & 0                         &  168693903                &  315319718                &  324797038                &  480036301                &   667086207              \\\\\n",
       "\t enqueue requests          & sumValue\\_P              & 0                         &  361319940                &  642784679                &  651501529                &  947107722                &  1314715516              \\\\\n",
       "\t execute count             & sumValue\\_I              & 0                         &  507427417                &  925947886                &  942725014                & 1387090951                &  1874434810              \\\\\n",
       "\t execute count             & sumValue\\_P              & 0                         &  697135715                & 1265369091                & 1266382865                & 1848565824                &  2512843957              \\\\\n",
       "\t global enqueue gets async & sumValue\\_I              & 0                         &    1020293                &    2307265                &    2334714                &    3608867                &     4847124              \\\\\n",
       "\t global enqueue gets async & sumValue\\_P              & 0                         &    2570432                &    5039506                &    5033191                &    7542935                &     9942179              \\\\\n",
       "\t global enqueue gets sync  & sumValue\\_I              & 0                         & 2218573650                & 4039716641                & 4108848046                & 6043333453                &  8182200917              \\\\\n",
       "\t global enqueue gets sync  & sumValue\\_P              & 0                         & 3050827299                & 5506837636                & 5523297112                & 8074432602                & 10978370006              \\\\\n",
       "\t parse count (total)       & sumValue\\_I              & 0                         &  493992266                &  900360068                &  917114770                & 1348675712                &  1824743764              \\\\\n",
       "\t parse count (total)       & sumValue\\_P              & 0                         &  680125822                & 1235428491                & 1235803436                & 1804282880                &  2452601627              \\\\\n",
       "\t user I/O wait time        & sumValue\\_I              & 0                         &   28276153                &   57768679                &   56110475                &   85665735                &   104218173              \\\\\n",
       "\t user I/O wait time        & sumValue\\_P              & 0                         &   63195333                &  118447498                &  110180065                &  153219671                &   221435845              \\\\\n",
       "\t user calls                & sumValue\\_I              & 0                         & 1110556855                & 2019867393                & 2054180000                & 3021275686                &  4085999060              \\\\\n",
       "\t user calls                & sumValue\\_P              & 0                         & 1540372092                & 2780263078                & 2788656021                & 4078517023                &  5540569789              \\\\\n",
       "\\end{tabular}\n"
      ],
      "text/markdown": [
       "\n",
       "| STAT_NAME | variable | minimum | q1 | median | mean | q3 | maximum |\n",
       "|---|---|---|---|---|---|---|---|\n",
       "| application wait time     | sumValue_I                | 0                         |    6469607                |   13006096                |   11218856                |   15822376                |    24605502               |\n",
       "| application wait time     | sumValue_P                | 0                         |    1765437                |    3286549                |    3836112                |    5671957                |    11161610               |\n",
       "| cluster wait time         | sumValue_I                | 0                         |   39922870                |   70648925                |   73811537                |  106550893                |   156068270               |\n",
       "| cluster wait time         | sumValue_P                | 0                         |   13095362                |   23202828                |   22954916                |   32902095                |    45809061               |\n",
       "| concurrency wait time     | sumValue_I                | 0                         |   20483283                |   45683929                |   37344386                |   56770050                |    65431988               |\n",
       "| concurrency wait time     | sumValue_P                | 0                         |    8524217                |   13795452                |   13850108                |   19123212                |    27798021               |\n",
       "| db block changes          | sumValue_I                | 0                         | 2091862563                | 3998385106                | 4058133163                | 6014315921                |  8178806280               |\n",
       "| db block changes          | sumValue_P                | 0                         | 2231984641                | 3948820716                | 3960612971                | 5725933415                |  7850867824               |\n",
       "| enqueue requests          | sumValue_I                | 0                         |  168693903                |  315319718                |  324797038                |  480036301                |   667086207               |\n",
       "| enqueue requests          | sumValue_P                | 0                         |  361319940                |  642784679                |  651501529                |  947107722                |  1314715516               |\n",
       "| execute count             | sumValue_I                | 0                         |  507427417                |  925947886                |  942725014                | 1387090951                |  1874434810               |\n",
       "| execute count             | sumValue_P                | 0                         |  697135715                | 1265369091                | 1266382865                | 1848565824                |  2512843957               |\n",
       "| global enqueue gets async | sumValue_I                | 0                         |    1020293                |    2307265                |    2334714                |    3608867                |     4847124               |\n",
       "| global enqueue gets async | sumValue_P                | 0                         |    2570432                |    5039506                |    5033191                |    7542935                |     9942179               |\n",
       "| global enqueue gets sync  | sumValue_I                | 0                         | 2218573650                | 4039716641                | 4108848046                | 6043333453                |  8182200917               |\n",
       "| global enqueue gets sync  | sumValue_P                | 0                         | 3050827299                | 5506837636                | 5523297112                | 8074432602                | 10978370006               |\n",
       "| parse count (total)       | sumValue_I                | 0                         |  493992266                |  900360068                |  917114770                | 1348675712                |  1824743764               |\n",
       "| parse count (total)       | sumValue_P                | 0                         |  680125822                | 1235428491                | 1235803436                | 1804282880                |  2452601627               |\n",
       "| user I/O wait time        | sumValue_I                | 0                         |   28276153                |   57768679                |   56110475                |   85665735                |   104218173               |\n",
       "| user I/O wait time        | sumValue_P                | 0                         |   63195333                |  118447498                |  110180065                |  153219671                |   221435845               |\n",
       "| user calls                | sumValue_I                | 0                         | 1110556855                | 2019867393                | 2054180000                | 3021275686                |  4085999060               |\n",
       "| user calls                | sumValue_P                | 0                         | 1540372092                | 2780263078                | 2788656021                | 4078517023                |  5540569789               |\n",
       "\n"
      ],
      "text/plain": [
       "   STAT_NAME                 variable   minimum q1         median    \n",
       "1  application wait time     sumValue_I 0          6469607   13006096\n",
       "2  application wait time     sumValue_P 0          1765437    3286549\n",
       "3  cluster wait time         sumValue_I 0         39922870   70648925\n",
       "4  cluster wait time         sumValue_P 0         13095362   23202828\n",
       "5  concurrency wait time     sumValue_I 0         20483283   45683929\n",
       "6  concurrency wait time     sumValue_P 0          8524217   13795452\n",
       "7  db block changes          sumValue_I 0       2091862563 3998385106\n",
       "8  db block changes          sumValue_P 0       2231984641 3948820716\n",
       "9  enqueue requests          sumValue_I 0        168693903  315319718\n",
       "10 enqueue requests          sumValue_P 0        361319940  642784679\n",
       "11 execute count             sumValue_I 0        507427417  925947886\n",
       "12 execute count             sumValue_P 0        697135715 1265369091\n",
       "13 global enqueue gets async sumValue_I 0          1020293    2307265\n",
       "14 global enqueue gets async sumValue_P 0          2570432    5039506\n",
       "15 global enqueue gets sync  sumValue_I 0       2218573650 4039716641\n",
       "16 global enqueue gets sync  sumValue_P 0       3050827299 5506837636\n",
       "17 parse count (total)       sumValue_I 0        493992266  900360068\n",
       "18 parse count (total)       sumValue_P 0        680125822 1235428491\n",
       "19 user I/O wait time        sumValue_I 0         28276153   57768679\n",
       "20 user I/O wait time        sumValue_P 0         63195333  118447498\n",
       "21 user calls                sumValue_I 0       1110556855 2019867393\n",
       "22 user calls                sumValue_P 0       1540372092 2780263078\n",
       "   mean       q3         maximum    \n",
       "1    11218856   15822376    24605502\n",
       "2     3836112    5671957    11161610\n",
       "3    73811537  106550893   156068270\n",
       "4    22954916   32902095    45809061\n",
       "5    37344386   56770050    65431988\n",
       "6    13850108   19123212    27798021\n",
       "7  4058133163 6014315921  8178806280\n",
       "8  3960612971 5725933415  7850867824\n",
       "9   324797038  480036301   667086207\n",
       "10  651501529  947107722  1314715516\n",
       "11  942725014 1387090951  1874434810\n",
       "12 1266382865 1848565824  2512843957\n",
       "13    2334714    3608867     4847124\n",
       "14    5033191    7542935     9942179\n",
       "15 4108848046 6043333453  8182200917\n",
       "16 5523297112 8074432602 10978370006\n",
       "17  917114770 1348675712  1824743764\n",
       "18 1235803436 1804282880  2452601627\n",
       "19   56110475   85665735   104218173\n",
       "20  110180065  153219671   221435845\n",
       "21 2054180000 3021275686  4085999060\n",
       "22 2788656021 4078517023  5540569789"
      ]
     },
     "metadata": {},
     "output_type": "display_data"
    }
   ],
   "source": [
    "# get a summary\n",
    "library(broom)\n",
    "summarySystatByPlatform <- dtNulled.selectForLoad.melt[!is.na(value), glance(summary(value)), by=list(STAT_NAME, variable)]\n",
    "setkeyv(summarySystatByPlatform, c(\"STAT_NAME\", \"variable\"))\n",
    "summarySystatByPlatform"
   ]
  },
  {
   "cell_type": "markdown",
   "metadata": {},
   "source": [
    "### Produce some diagrams"
   ]
  },
  {
   "cell_type": "code",
   "execution_count": 13,
   "metadata": {},
   "outputs": [
    {
     "name": "stderr",
     "output_type": "stream",
     "text": [
      "Registered S3 methods overwritten by 'ggplot2':\n",
      "  method         from \n",
      "  [.quosures     rlang\n",
      "  c.quosures     rlang\n",
      "  print.quosures rlang\n"
     ]
    }
   ],
   "source": [
    "tstart <- dtNulled.selectForLoad.melt[, min(snapHour)]\n",
    "tend <- dtNulled.selectForLoad.melt[, max(snapHour)]\n",
    "tscale = seq(from=tstart, to=tend, by=24*3600)\n",
    "\n",
    "lims <- c(tstart,tend)\n",
    "\n",
    "library(ggplot2)\n",
    "\n",
    "myTheme = theme(\n",
    "  aspect.ratio = 0.8,\n",
    "##  plot.margin = margin(c(0.5, 1, 0.5, 1), \"cm\"),\n",
    "  plot.title=element_text(size = 10, face=\"bold\"),\n",
    "  title = element_text(size = 9),\n",
    "  axis.title.x = element_text(size = 7),\n",
    "  axis.text.x = element_text(size = 7),\n",
    "  axis.title.y = element_text(size = 7),\n",
    "  axis.text.y = element_text(size = 7),\n",
    "  legend.title = element_text(size = 8, face=\"bold\"),\n",
    "  legend.text = element_text(size = 7)\n",
    ")"
   ]
  },
  {
   "cell_type": "markdown",
   "metadata": {},
   "source": [
    "#### Application Waitclass"
   ]
  },
  {
   "cell_type": "code",
   "execution_count": 19,
   "metadata": {},
   "outputs": [
    {
     "name": "stderr",
     "output_type": "stream",
     "text": [
      "Warning message:\n",
      "\"Removed 6 rows containing missing values (geom_col).\""
     ]
    },
    {
     "data": {
      "image/png": "[encoded data removed]",
      "text/plain": [
       "plot without title"
      ]
     },
     "metadata": {},
     "output_type": "display_data"
    }
   ],
   "source": [
    "## application wait time\n",
    "p_awt <- ggplot(data=dtNulled.selectForLoad.melt[ STAT_NAME == \"application wait time\", ])\n",
    "p_awt1 <- p_awt + geom_col(aes(x=snapHour, y=value, fill=variable), position=\"dodge\")\n",
    "p_awt2 <- p_awt1 +\n",
    "    scale_x_datetime(limits=lims, breaks=tscale, timezone=\"Europe/Berlin\", date_labels=\"%H:%M\\n%b-%d\") +\n",
    "    scale_y_continuous(limits = c(0,NA), labels = scales::comma_format(big.mark=\"'\"))\n",
    "p_awt3 <- p_awt2 +\n",
    "    labs(title=\"System Stat application wait time, 22.8.2019 00:00 bis 29.8.2019 00:00 CEST\") +\n",
    "    xlab(\"22.8.2019 00:00 bis 29.8.2019 00:00 CEST\") +\n",
    "    ylab(\"[1/100 Sekunden]\")\n",
    "p_awt4 <- p_awt3 + scale_fill_discrete(name=\"Plattform\", breaks=c(\"sumValue_I\", \"sumValue_P\"), labels=c(\"CUS DB Inte\", \"CUS DB Prod\"))\n",
    "## p_awt5 <- p_awt4 +\n",
    "##    geom_text(aes(x = tstart + 3600, y=1e7, vjust=\"inward\", hjust=\"inward\",\n",
    "##    label=\"application wait time: The total wait time (in centiseconds) \\nfor waits that belong to the Application wait class\"),\n",
    "##    size=3.5)\n",
    "plot(p_awt4 + myTheme)"
   ]
  },
  {
   "cell_type": "markdown",
   "metadata": {},
   "source": [
    "#### Cluster Waitclass"
   ]
  },
  {
   "cell_type": "code",
   "execution_count": 15,
   "metadata": {},
   "outputs": [
    {
     "name": "stderr",
     "output_type": "stream",
     "text": [
      "Warning message:\n",
      "\"Removed 6 rows containing missing values (geom_col).\""
     ]
    },
    {
     "data": {
      "image/png": "[encoded data removed]",
      "text/plain": [
       "plot without title"
      ]
     },
     "metadata": {},
     "output_type": "display_data"
    }
   ],
   "source": [
    "## cluster wait time\n",
    "p_clwt <- ggplot(data=dtNulled.selectForLoad.melt[ STAT_NAME == \"cluster wait time\", ])\n",
    "p_clwt1 <- p_clwt + geom_col(aes(x=snapHour, y=value, fill=variable),  position=\"dodge\")\n",
    "p_clwt2 <- p_clwt1 +\n",
    "    scale_x_datetime(limits=lims, breaks=tscale, timezone=\"Europe/Berlin\", date_labels=\"%H:%M\\n%b-%d\") +\n",
    "    scale_y_continuous(limits = c(0,NA), labels = scales::comma_format(big.mark=\"'\"))\n",
    "p_clwt3 <- p_clwt2 +\n",
    "    labs(title=\"System Stat cluster wait time, 22.8.2019 00:00 bis 29.8.2019 00:00 CEST\") +\n",
    "    xlab(\"22.8.2019 00:00 bis 29.8.2019 00:00 CEST\") +\n",
    "    ylab(\"[1/100 Sekunden]\")\n",
    "p_clwt4 <- p_clwt3 + scale_fill_discrete(name=\"Plattform\", breaks=c(\"sumValue_I\", \"sumValue_P\"), labels=c(\"CUS DB Inte\", \"CUS DB Prod\"))\n",
    "## p_clwt5 <- p_clwt4 +\n",
    "##    geom_text(aes(x = tstart + 3600, y=5e7, vjust=\"inward\", hjust=\"inward\",\n",
    "##    label=\"cluster wait time: The total wait time (in centiseconds) \\nfor waits that belong to the Cluster wait class\"),\n",
    "##    size=5)\n",
    "plot(p_clwt4 + myTheme)"
   ]
  },
  {
   "cell_type": "markdown",
   "metadata": {},
   "source": [
    "#### Concurrency Waitclass"
   ]
  },
  {
   "cell_type": "code",
   "execution_count": 20,
   "metadata": {},
   "outputs": [
    {
     "name": "stderr",
     "output_type": "stream",
     "text": [
      "Warning message:\n",
      "\"Removed 6 rows containing missing values (geom_col).\""
     ]
    },
    {
     "data": {
      "image/png": "[encoded data removed]",
      "text/plain": [
       "plot without title"
      ]
     },
     "metadata": {},
     "output_type": "display_data"
    }
   ],
   "source": [
    "p_ccwt <- ggplot(data=dtNulled.selectForLoad.melt[ STAT_NAME == \"concurrency wait time\", ])\n",
    "p_ccwt1 <- p_ccwt + geom_col(aes(x=snapHour, y=value, fill=variable),  position=\"dodge\")\n",
    "p_ccwt2 <- p_ccwt1 +\n",
    "    scale_x_datetime(limits=lims, breaks=tscale, timezone=\"Europe/Berlin\", date_labels=\"%H:%M\\n%b-%d\") +\n",
    "    scale_y_continuous(limits = c(0,NA), labels = scales::comma_format(big.mark=\"'\"))\n",
    "p_ccwt3 <- p_ccwt2 +\n",
    "    labs(title=\"System Stat concurrency wait time, 22.8.2019 00:00 bis 29.8.2019 00:00 CEST\") +\n",
    "    xlab(\"22.8.2019 00:00 bis 29.8.2019 00:00 CEST\") +\n",
    "    ylab(\"[1/100 Sekunden]\")\n",
    "p_ccwt4 <- p_ccwt3 + scale_fill_discrete(name=\"Plattform\", breaks=c(\"sumValue_I\", \"sumValue_P\"), labels=c(\"CUS DB Inte\", \"CUS DB Prod\"))\n",
    "## p_ccwt5 <- p_ccwt4 +\n",
    "##    geom_text(aes(x = tstart + 3600, y=2.6e7, vjust=\"inward\", hjust=\"inward\",\n",
    "##    label=\"concurrency wait time: The total wait time (in centiseconds) \\nfor waits that belong to the Concurrency wait class\"),\n",
    "##    size=5)\n",
    "plot(p_ccwt4 + myTheme)"
   ]
  },
  {
   "cell_type": "markdown",
   "metadata": {},
   "source": [
    "#### User I/O Waitclass"
   ]
  },
  {
   "cell_type": "code",
   "execution_count": 24,
   "metadata": {},
   "outputs": [
    {
     "name": "stderr",
     "output_type": "stream",
     "text": [
      "Warning message:\n",
      "\"Removed 6 rows containing missing values (geom_col).\""
     ]
    },
    {
     "data": {
      "image/png": "[encoded data removed]",
      "text/plain": [
       "plot without title"
      ]
     },
     "metadata": {},
     "output_type": "display_data"
    }
   ],
   "source": [
    "p_uiowt <- ggplot(data=dtNulled.selectForLoad.melt[ STAT_NAME == \"user I/O wait time\", ])\n",
    "p_uiowt1 <- p_uiowt + geom_col(aes(x=snapHour, y=value, fill=variable),  position=\"dodge\")\n",
    "p_uiowt2 <- p_uiowt1 +\n",
    "    scale_x_datetime(limits=lims, breaks=tscale, timezone=\"Europe/Berlin\", date_labels=\"%H:%M\\n%b-%d\") +\n",
    "    scale_y_continuous(limits = c(0,NA), labels = scales::comma_format(big.mark=\"'\"))\n",
    "p_uiowt3 <- p_uiowt2 +\n",
    "    labs(title=\"System Stat user I/O wait time, 22.8.2019 00:00 bis 29.8.2019 00:00 CEST\") +\n",
    "    xlab(\"22.8.2019 00:00 bis 29.8.2019 00:00 CEST\") +\n",
    "    ylab(\"[1/100 Sekunden]\")\n",
    "p_uiowt4 <- p_uiowt3 + scale_fill_discrete(name=\"Plattform\", breaks=c(\"sumValue_I\", \"sumValue_P\"), labels=c(\"CUS DB Inte\", \"CUS DB Prod\"))\n",
    "## p_uiowt5 <- p_uiowt4 +\n",
    "##    geom_text(aes(x = tstart + 3600, y=8.5e7, vjust=\"inward\", hjust=\"inward\",\n",
    "##    label=\"user I/O wait time: The total wait time (in centiseconds) for waits that belong to the User I/O wait class\"),\n",
    "##    size=5)\n",
    "plot(p_uiowt4 + myTheme)"
   ]
  }
 ],
 "metadata": {
  "kernelspec": {
   "display_name": "R",
   "language": "R",
   "name": "ir"
  },
  "language_info": {
   "name": ""
  }
 },
 "nbformat": 4,
 "nbformat_minor": 4
}
